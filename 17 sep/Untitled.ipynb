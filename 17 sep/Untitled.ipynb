{
 "cells": [
  {
   "cell_type": "markdown",
   "metadata": {},
   "source": [
    "# Markdown Basics:\n",
    "* **bold**\n",
    "* *italic*\n",
    "* ***bolditalic***\n",
    "* *normal text\n",
    "    * *text1\n",
    "    * *text2"
   ]
  },
  {
   "cell_type": "markdown",
   "metadata": {},
   "source": [
    "<img src='jupyter.png'>"
   ]
  },
  {
   "cell_type": "code",
   "execution_count": 1,
   "metadata": {},
   "outputs": [
    {
     "data": {
      "text/plain": [
       "1"
      ]
     },
     "execution_count": 1,
     "metadata": {},
     "output_type": "execute_result"
    }
   ],
   "source": [
    "i = 1\n",
    "i"
   ]
  },
  {
   "cell_type": "code",
   "execution_count": 2,
   "metadata": {},
   "outputs": [
    {
     "name": "stdout",
     "output_type": "stream",
     "text": [
      "1 2 3\n"
     ]
    }
   ],
   "source": [
    "i,j,k=1,2,3\n",
    "print (i,j,k)"
   ]
  },
  {
   "cell_type": "code",
   "execution_count": 3,
   "metadata": {},
   "outputs": [],
   "source": [
    "j = k"
   ]
  },
  {
   "cell_type": "code",
   "execution_count": 4,
   "metadata": {
    "scrolled": true
   },
   "outputs": [
    {
     "data": {
      "text/plain": [
       "3"
      ]
     },
     "execution_count": 4,
     "metadata": {},
     "output_type": "execute_result"
    }
   ],
   "source": [
    "j"
   ]
  },
  {
   "cell_type": "code",
   "execution_count": 5,
   "metadata": {},
   "outputs": [
    {
     "name": "stdout",
     "output_type": "stream",
     "text": [
      "hello world\n"
     ]
    }
   ],
   "source": [
    "a,b = \"hello\",\"world\"\n",
    "print (a,b)"
   ]
  },
  {
   "cell_type": "markdown",
   "metadata": {},
   "source": [
    "# **Type casting**"
   ]
  },
  {
   "cell_type": "code",
   "execution_count": 6,
   "metadata": {},
   "outputs": [
    {
     "name": "stdout",
     "output_type": "stream",
     "text": [
      "5.0\n",
      "5\n",
      "5\n"
     ]
    }
   ],
   "source": [
    "m = 5\n",
    "print(float(m))\n",
    "n = str(m)\n",
    "o = int(n)\n",
    "print(n)\n",
    "print(o)"
   ]
  },
  {
   "cell_type": "markdown",
   "metadata": {},
   "source": [
    "# **Arithmetic operations in python**\n",
    "* +\n",
    "* -\n",
    "* *\n",
    "* %\n",
    "* /"
   ]
  },
  {
   "cell_type": "code",
   "execution_count": 7,
   "metadata": {},
   "outputs": [
    {
     "name": "stdout",
     "output_type": "stream",
     "text": [
      "addition of a and b:  362\n"
     ]
    }
   ],
   "source": [
    "a = 6\n",
    "b = 356\n",
    "c = a+b\n",
    "print(\"addition of a and b: \",c)"
   ]
  },
  {
   "cell_type": "code",
   "execution_count": 8,
   "metadata": {},
   "outputs": [
    {
     "name": "stdout",
     "output_type": "stream",
     "text": [
      "subtraction of a and b:  -350\n"
     ]
    }
   ],
   "source": [
    "c = a-b\n",
    "print(\"subtraction of a and b: \",c)"
   ]
  },
  {
   "cell_type": "code",
   "execution_count": 9,
   "metadata": {},
   "outputs": [
    {
     "name": "stdout",
     "output_type": "stream",
     "text": [
      "multiplication of a and b:  2136\n"
     ]
    }
   ],
   "source": [
    "c = a*b\n",
    "print(\"multiplication of a and b: \",c)"
   ]
  },
  {
   "cell_type": "code",
   "execution_count": 10,
   "metadata": {},
   "outputs": [
    {
     "name": "stdout",
     "output_type": "stream",
     "text": [
      "modulo division of a and b:  6\n"
     ]
    }
   ],
   "source": [
    "c = a%b\n",
    "print(\"modulo division of a and b: \",c)"
   ]
  },
  {
   "cell_type": "code",
   "execution_count": 11,
   "metadata": {},
   "outputs": [
    {
     "name": "stdout",
     "output_type": "stream",
     "text": [
      "division of a and b:  0.016853932584269662\n"
     ]
    }
   ],
   "source": [
    "c = a/b\n",
    "print(\"division of a and b: \",c)"
   ]
  },
  {
   "cell_type": "markdown",
   "metadata": {},
   "source": [
    "# **Indentation**"
   ]
  },
  {
   "cell_type": "code",
   "execution_count": 12,
   "metadata": {},
   "outputs": [
    {
     "name": "stdout",
     "output_type": "stream",
     "text": [
      "else if is executed\n"
     ]
    }
   ],
   "source": [
    "i = 10\n",
    "if i<5:\n",
    "    print(\"if statement executed\")\n",
    "elif i==10:\n",
    "    print(\"else if is executed\")\n",
    "else:\n",
    "    print(\"else is executed\")\n",
    "    \n",
    "    \n",
    "    "
   ]
  },
  {
   "cell_type": "code",
   "execution_count": 15,
   "metadata": {},
   "outputs": [
    {
     "name": "stdout",
     "output_type": "stream",
     "text": [
      "11\n",
      "21\n"
     ]
    }
   ],
   "source": [
    "i = int(input())\n",
    "print(i+10)"
   ]
  },
  {
   "cell_type": "code",
   "execution_count": 16,
   "metadata": {},
   "outputs": [
    {
     "name": "stdout",
     "output_type": "stream",
     "text": [
      "enter an integer value: 15646\n",
      "15656\n"
     ]
    }
   ],
   "source": [
    "i = int(input(\"enter an integer value: \"))\n",
    "print(i+10)"
   ]
  },
  {
   "cell_type": "code",
   "execution_count": 18,
   "metadata": {},
   "outputs": [
    {
     "name": "stdout",
     "output_type": "stream",
     "text": [
      "enter a no: 475\n",
      "i is a positive number\n"
     ]
    }
   ],
   "source": [
    "i=int(input(\"enter a no: \"))\n",
    "if i>=0:\n",
    "    print(\"i is a positive number\")\n",
    "else:\n",
    "    print(\"i is negative number\")"
   ]
  },
  {
   "cell_type": "markdown",
   "metadata": {},
   "source": [
    "# **Strings**\n",
    "**string indexing**"
   ]
  },
  {
   "cell_type": "code",
   "execution_count": 20,
   "metadata": {},
   "outputs": [
    {
     "name": "stdout",
     "output_type": "stream",
     "text": [
      "H\n",
      " \n",
      "D\n",
      "HELLO\n",
      "HELLO WO\n"
     ]
    }
   ],
   "source": [
    "s = 'HELLO WORLD!'\n",
    "print(s[0])\n",
    "print(s[5])\n",
    "print(s[10])\n",
    "print(s[0:5])\n",
    "print(s[0:8])"
   ]
  },
  {
   "cell_type": "code",
   "execution_count": 33,
   "metadata": {},
   "outputs": [
    {
     "name": "stdout",
     "output_type": "stream",
     "text": [
      "!DLROW OLLEH\n",
      "!R L\n",
      "HLOWRD\n",
      "LLO WORLD!\n",
      "D!\n",
      "D!\n",
      "HLWL\n",
      "!OL\n",
      "LH\n"
     ]
    }
   ],
   "source": [
    "print(s[::-1])\n",
    "print(s[::-3])\n",
    "print(s[::2])\n",
    "print(s[2::])\n",
    "print(s[-2::])\n",
    "print(s[10::])\n",
    "print(s[::3])\n",
    "print(s[::-4])\n",
    "print(s[-9::-3])"
   ]
  },
  {
   "cell_type": "markdown",
   "metadata": {},
   "source": [
    "# **string methods**"
   ]
  },
  {
   "cell_type": "code",
   "execution_count": 35,
   "metadata": {},
   "outputs": [
    {
     "name": "stdout",
     "output_type": "stream",
     "text": [
      "['Hello', 'world!']\n"
     ]
    }
   ],
   "source": [
    "s1 = 'Hello world!'\n",
    "print(s1.split())"
   ]
  },
  {
   "cell_type": "code",
   "execution_count": 41,
   "metadata": {},
   "outputs": [
    {
     "name": "stdout",
     "output_type": "stream",
     "text": [
      "['Hello', 'world!']\n",
      "['Hello', 'world!']\n",
      "world!\n"
     ]
    }
   ],
   "source": [
    "s1 = 'Hello world!'\n",
    "l1 = s1.split()\n",
    "print(s1.split())\n",
    "print(l1)\n",
    "print(l1[-1])"
   ]
  },
  {
   "cell_type": "code",
   "execution_count": 43,
   "metadata": {},
   "outputs": [
    {
     "name": "stdout",
     "output_type": "stream",
     "text": [
      "['Check', 'if', 'a', 'given', 'string', 'is', 'palindrome', 'or', 'not']\n"
     ]
    }
   ],
   "source": [
    "s2 = 'Check if a given string is palindrome or not'\n",
    "l2 = s2.split()\n",
    "print(l2)"
   ]
  },
  {
   "cell_type": "code",
   "execution_count": 46,
   "metadata": {},
   "outputs": [
    {
     "name": "stdout",
     "output_type": "stream",
     "text": [
      "enter a stringproblem@solving@using@python\n",
      "['problem', 'solving', 'using', 'python']\n"
     ]
    }
   ],
   "source": [
    "s3 = input(\"enter a string\")\n",
    "l3 = s3.split('@')\n",
    "print(l3)"
   ]
  },
  {
   "cell_type": "code",
   "execution_count": 47,
   "metadata": {},
   "outputs": [
    {
     "name": "stdout",
     "output_type": "stream",
     "text": [
      "['problem', 'solving', 'using', 'python']\n"
     ]
    }
   ],
   "source": [
    "print(l3)"
   ]
  },
  {
   "cell_type": "code",
   "execution_count": 48,
   "metadata": {},
   "outputs": [
    {
     "name": "stdout",
     "output_type": "stream",
     "text": [
      "problem#solving#using#python\n",
      "problem solving using python\n"
     ]
    }
   ],
   "source": [
    "l4 = '#'.join(l3)\n",
    "l5 = ' '.join(l3)\n",
    "print(l4)\n",
    "print(l5)"
   ]
  },
  {
   "cell_type": "code",
   "execution_count": 49,
   "metadata": {},
   "outputs": [
    {
     "name": "stdout",
     "output_type": "stream",
     "text": [
      "['Check', 'if', 'a', 'given', 'string', 'is', 'palindrome', 'or', 'not']\n",
      "Check#@if#@a#@given#@string#@is#@palindrome#@or#@not\n"
     ]
    }
   ],
   "source": [
    "l3 = '#@'.join(l2)\n",
    "print(l2)\n",
    "print(l3)"
   ]
  },
  {
   "cell_type": "markdown",
   "metadata": {},
   "source": [
    "* **islower( )**"
   ]
  },
  {
   "cell_type": "code",
   "execution_count": 52,
   "metadata": {},
   "outputs": [
    {
     "name": "stdout",
     "output_type": "stream",
     "text": [
      "True\n"
     ]
    }
   ],
   "source": [
    "s1 = 'mech'\n",
    "if s1.islower():\n",
    "    print(\"True\")\n",
    "else:\n",
    "    print(\"False\")"
   ]
  },
  {
   "cell_type": "markdown",
   "metadata": {},
   "source": [
    "* **isupper( )**"
   ]
  },
  {
   "cell_type": "code",
   "execution_count": 55,
   "metadata": {},
   "outputs": [
    {
     "name": "stdout",
     "output_type": "stream",
     "text": [
      "True\n"
     ]
    }
   ],
   "source": [
    "s2 = 'EEE'\n",
    "if s2.isupper():\n",
    "    print(\"True\")\n",
    "else:\n",
    "    print(\"False\")"
   ]
  },
  {
   "cell_type": "markdown",
   "metadata": {},
   "source": [
    "* **lower( )**"
   ]
  },
  {
   "cell_type": "code",
   "execution_count": 58,
   "metadata": {},
   "outputs": [
    {
     "name": "stdout",
     "output_type": "stream",
     "text": [
      "string is lower or not\n"
     ]
    }
   ],
   "source": [
    "s3 = 'string is lower or NOT'\n",
    "l1 = s3.lower()\n",
    "print(l1)"
   ]
  },
  {
   "cell_type": "markdown",
   "metadata": {},
   "source": [
    "* **upper( )**"
   ]
  },
  {
   "cell_type": "code",
   "execution_count": 59,
   "metadata": {},
   "outputs": [
    {
     "name": "stdout",
     "output_type": "stream",
     "text": [
      "STRING IS LOWER OR NOT\n"
     ]
    }
   ],
   "source": [
    "s4 = 'string is lower or NOT'\n",
    "l1 = s4.upper()\n",
    "print(l1)"
   ]
  },
  {
   "cell_type": "markdown",
   "metadata": {},
   "source": [
    "* **count( )**"
   ]
  },
  {
   "cell_type": "code",
   "execution_count": 60,
   "metadata": {},
   "outputs": [
    {
     "name": "stdout",
     "output_type": "stream",
     "text": [
      "3\n"
     ]
    }
   ],
   "source": [
    "s1 = 'STRING IS LOWER OR NOT'\n",
    "print(s1.count('R'))"
   ]
  },
  {
   "cell_type": "markdown",
   "metadata": {},
   "source": [
    "# **check if a given string is palindrome or not**"
   ]
  },
  {
   "cell_type": "code",
   "execution_count": 76,
   "metadata": {},
   "outputs": [
    {
     "name": "stdout",
     "output_type": "stream",
     "text": [
      "enter a string: yoloy99\n",
      "not a palindrome\n"
     ]
    }
   ],
   "source": [
    "s = input(\"enter a string: \")\n",
    "if s==s[::-1]:\n",
    "    print(\"it is a palindrome\")\n",
    "else:\n",
    "    print(\"not a palindrome\")"
   ]
  },
  {
   "cell_type": "markdown",
   "metadata": {},
   "source": [
    "# 2.Python Functions"
   ]
  },
  {
   "cell_type": "code",
   "execution_count": 6,
   "metadata": {
    "scrolled": false
   },
   "outputs": [
    {
     "name": "stdout",
     "output_type": "stream",
     "text": [
      "enter a string: holaa\n",
      "5\n"
     ]
    }
   ],
   "source": [
    "s = str(input(\"enter a string: \"))\n",
    "print(len(s))"
   ]
  },
  {
   "cell_type": "code",
   "execution_count": 14,
   "metadata": {},
   "outputs": [
    {
     "name": "stdout",
     "output_type": "stream",
     "text": [
      "<class 'int'>\n",
      "<class 'float'>\n",
      "<class 'str'>\n"
     ]
    }
   ],
   "source": [
    "x = 14\n",
    "y = 21.45\n",
    "z = 'Abhi'\n",
    "print(type(x))\n",
    "print(type(y))\n",
    "print(type(z))"
   ]
  },
  {
   "cell_type": "markdown",
   "metadata": {},
   "source": [
    "# **without arguments & without return values**\n",
    "* addition of two numbers"
   ]
  },
  {
   "cell_type": "code",
   "execution_count": 18,
   "metadata": {},
   "outputs": [
    {
     "name": "stdout",
     "output_type": "stream",
     "text": [
      "12\n",
      "42\n",
      "54\n"
     ]
    }
   ],
   "source": [
    "def addition_of_twonumbers():\n",
    "    a = int(input())\n",
    "    b = int(input())\n",
    "    c = a+b\n",
    "    print(c)\n",
    "addition_of_twonumbers()"
   ]
  },
  {
   "cell_type": "markdown",
   "metadata": {},
   "source": [
    "# **without arguments & with return values**\n",
    "* multiplication"
   ]
  },
  {
   "cell_type": "code",
   "execution_count": 22,
   "metadata": {},
   "outputs": [
    {
     "name": "stdout",
     "output_type": "stream",
     "text": [
      "7\n",
      "9\n",
      "multiplication of given numbers :  63\n"
     ]
    }
   ],
   "source": [
    "def multiplication():\n",
    "    i = int(input())\n",
    "    j = int(input())\n",
    "    k = i*j\n",
    "    return k\n",
    "a = multiplication()\n",
    "print(\"multiplication of given numbers : \",a)"
   ]
  },
  {
   "cell_type": "markdown",
   "metadata": {},
   "source": [
    "# **with arguments & without return values**"
   ]
  },
  {
   "cell_type": "code",
   "execution_count": 30,
   "metadata": {},
   "outputs": [],
   "source": [
    "def addition_of_twonumbers(i,j):\n",
    "    k = i+j\n",
    "    print(k)"
   ]
  },
  {
   "cell_type": "code",
   "execution_count": 32,
   "metadata": {},
   "outputs": [
    {
     "name": "stdout",
     "output_type": "stream",
     "text": [
      "41\n",
      "12\n",
      "53\n"
     ]
    }
   ],
   "source": [
    "i = int(input())\n",
    "j = int(input())\n",
    "addition_of_twonumbers(i,j)"
   ]
  },
  {
   "cell_type": "markdown",
   "metadata": {},
   "source": [
    "# **with arguments & with return values**\n"
   ]
  },
  {
   "cell_type": "code",
   "execution_count": 33,
   "metadata": {},
   "outputs": [],
   "source": [
    "def multiplication(i,j):\n",
    "    k = i*j\n",
    "    return k"
   ]
  },
  {
   "cell_type": "code",
   "execution_count": 37,
   "metadata": {},
   "outputs": [
    {
     "name": "stdout",
     "output_type": "stream",
     "text": [
      "4\n",
      "5\n",
      "multiplication of given numbers :  20\n"
     ]
    }
   ],
   "source": [
    "i = int(input())\n",
    "j = int(input())\n",
    "l = multiplication(i,j)\n",
    "print(\"multiplication of given numbers : \",l)"
   ]
  },
  {
   "cell_type": "markdown",
   "metadata": {},
   "source": [
    "**check if the given year is leap year or not**"
   ]
  },
  {
   "cell_type": "code",
   "execution_count": 48,
   "metadata": {},
   "outputs": [],
   "source": [
    "def leapyear_ornot(y):    \n",
    "    if ((y%4==0)and(y%100!=0))or(n%400== 0):\n",
    "        print(y,\"is a leap year\")\n",
    "    else:\n",
    "        print(y,\"is not a leap year\")"
   ]
  },
  {
   "cell_type": "code",
   "execution_count": 58,
   "metadata": {},
   "outputs": [
    {
     "name": "stdout",
     "output_type": "stream",
     "text": [
      "enter year: 2020\n",
      "2020 is a leap year\n"
     ]
    }
   ],
   "source": [
    "y=int(input(\"enter year: \"))\n",
    "leapyear_ornot(y)"
   ]
  },
  {
   "cell_type": "markdown",
   "metadata": {},
   "source": [
    "**Check whether given number is even or odd**"
   ]
  },
  {
   "cell_type": "code",
   "execution_count": 60,
   "metadata": {},
   "outputs": [
    {
     "name": "stdout",
     "output_type": "stream",
     "text": [
      "enter a no: 37\n",
      "it is odd\n"
     ]
    }
   ],
   "source": [
    "n = int(input(\"enter a no: \"))\n",
    "if(n%2==0):\n",
    "    print(\"it is even\")\n",
    "else:\n",
    "    print(\"it is odd\")"
   ]
  },
  {
   "cell_type": "markdown",
   "metadata": {},
   "source": [
    "# **Iterations**\n",
    "* for\n",
    "* while\n",
    "* do while"
   ]
  },
  {
   "cell_type": "code",
   "execution_count": 63,
   "metadata": {},
   "outputs": [
    {
     "name": "stdout",
     "output_type": "stream",
     "text": [
      "1\n",
      "6\n"
     ]
    }
   ],
   "source": [
    "for i in range(1,10,5):\n",
    "    print(i)"
   ]
  },
  {
   "cell_type": "code",
   "execution_count": null,
   "metadata": {},
   "outputs": [],
   "source": [
    "for i in range"
   ]
  },
  {
   "cell_type": "code",
   "execution_count": null,
   "metadata": {},
   "outputs": [],
   "source": []
  },
  {
   "cell_type": "code",
   "execution_count": 69,
   "metadata": {},
   "outputs": [
    {
     "name": "stdout",
     "output_type": "stream",
     "text": [
      "enter n: 10\n",
      "1 2 3 4 5 6 7 8 9 10 "
     ]
    }
   ],
   "source": [
    "n = int(input(\"enter n: \"))\n",
    "for i in range(1,n+1):\n",
    "    print(i,end = ' ')"
   ]
  },
  {
   "cell_type": "code",
   "execution_count": 67,
   "metadata": {},
   "outputs": [
    {
     "name": "stdout",
     "output_type": "stream",
     "text": [
      "enter n: 100\n",
      "0 5 10 15 20 25 30 35 40 45 50 55 60 65 70 75 80 85 90 95 100 "
     ]
    }
   ],
   "source": [
    "n = int(input(\"enter n: \"))\n",
    "for i in range(0,n+1,5):\n",
    "    print(i,end = ' ')"
   ]
  },
  {
   "cell_type": "code",
   "execution_count": 72,
   "metadata": {},
   "outputs": [
    {
     "name": "stdout",
     "output_type": "stream",
     "text": [
      "10\n",
      "1 2 3 4 5 6 7 8 9 10 "
     ]
    }
   ],
   "source": [
    "i = 1\n",
    "n = int(input())\n",
    "while i<=n:\n",
    "    print(i,end = ' ')\n",
    "    i=i+1"
   ]
  },
  {
   "cell_type": "code",
   "execution_count": 79,
   "metadata": {},
   "outputs": [],
   "source": [
    "def natural_no(n):\n",
    "    i = 1\n",
    "    while i<=n:\n",
    "        print(i,end = ' ')\n",
    "        i+=1"
   ]
  },
  {
   "cell_type": "code",
   "execution_count": 80,
   "metadata": {},
   "outputs": [
    {
     "name": "stdout",
     "output_type": "stream",
     "text": [
      "1 2 3 4 5 6 7 8 9 10 11 12 13 14 15 16 17 18 19 20 "
     ]
    }
   ],
   "source": [
    "natural_no(20)"
   ]
  },
  {
   "cell_type": "code",
   "execution_count": null,
   "metadata": {},
   "outputs": [],
   "source": []
  }
 ],
 "metadata": {
  "kernelspec": {
   "display_name": "Python 3",
   "language": "python",
   "name": "python3"
  },
  "language_info": {
   "codemirror_mode": {
    "name": "ipython",
    "version": 3
   },
   "file_extension": ".py",
   "mimetype": "text/x-python",
   "name": "python",
   "nbconvert_exporter": "python",
   "pygments_lexer": "ipython3",
   "version": "3.7.3"
  }
 },
 "nbformat": 4,
 "nbformat_minor": 2
}
